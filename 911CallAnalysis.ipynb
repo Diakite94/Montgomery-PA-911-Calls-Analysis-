{
 "cells": [
  {
   "cell_type": "markdown",
   "metadata": {},
   "source": [
    "# 911 Calls Analysis and Visualization\n",
    "\n",
    "# By Lamine Diakite \n",
    "\n",
    "# 10/24/19"
   ]
  },
  {
   "cell_type": "code",
   "execution_count": 1,
   "metadata": {},
   "outputs": [],
   "source": [
    "import pandas as pd \n",
    "import numpy as np \n",
    "import matplotlib as plt \n",
    "import matplotlib.pyplot as plt \n",
    "import seaborn as sns \n",
    "%matplotlib inline \n",
    "\n",
    "plt.style.use('ggplot')"
   ]
  },
  {
   "cell_type": "code",
   "execution_count": 2,
   "metadata": {},
   "outputs": [],
   "source": [
    "df = pd.read_csv('911.csv')"
   ]
  },
  {
   "cell_type": "code",
   "execution_count": 3,
   "metadata": {},
   "outputs": [
    {
     "data": {
      "text/html": [
       "<div>\n",
       "<style scoped>\n",
       "    .dataframe tbody tr th:only-of-type {\n",
       "        vertical-align: middle;\n",
       "    }\n",
       "\n",
       "    .dataframe tbody tr th {\n",
       "        vertical-align: top;\n",
       "    }\n",
       "\n",
       "    .dataframe thead th {\n",
       "        text-align: right;\n",
       "    }\n",
       "</style>\n",
       "<table border=\"1\" class=\"dataframe\">\n",
       "  <thead>\n",
       "    <tr style=\"text-align: right;\">\n",
       "      <th></th>\n",
       "      <th>lat</th>\n",
       "      <th>lng</th>\n",
       "      <th>desc</th>\n",
       "      <th>zip</th>\n",
       "      <th>title</th>\n",
       "      <th>timeStamp</th>\n",
       "      <th>twp</th>\n",
       "      <th>addr</th>\n",
       "      <th>e</th>\n",
       "    </tr>\n",
       "  </thead>\n",
       "  <tbody>\n",
       "    <tr>\n",
       "      <th>0</th>\n",
       "      <td>40.297876</td>\n",
       "      <td>-75.581294</td>\n",
       "      <td>REINDEER CT &amp; DEAD END;  NEW HANOVER; Station ...</td>\n",
       "      <td>19525.0</td>\n",
       "      <td>EMS: BACK PAINS/INJURY</td>\n",
       "      <td>2015-12-10 17:10:52</td>\n",
       "      <td>NEW HANOVER</td>\n",
       "      <td>REINDEER CT &amp; DEAD END</td>\n",
       "      <td>1</td>\n",
       "    </tr>\n",
       "    <tr>\n",
       "      <th>1</th>\n",
       "      <td>40.258061</td>\n",
       "      <td>-75.264680</td>\n",
       "      <td>BRIAR PATH &amp; WHITEMARSH LN;  HATFIELD TOWNSHIP...</td>\n",
       "      <td>19446.0</td>\n",
       "      <td>EMS: DIABETIC EMERGENCY</td>\n",
       "      <td>2015-12-10 17:29:21</td>\n",
       "      <td>HATFIELD TOWNSHIP</td>\n",
       "      <td>BRIAR PATH &amp; WHITEMARSH LN</td>\n",
       "      <td>1</td>\n",
       "    </tr>\n",
       "    <tr>\n",
       "      <th>2</th>\n",
       "      <td>40.121182</td>\n",
       "      <td>-75.351975</td>\n",
       "      <td>HAWS AVE; NORRISTOWN; 2015-12-10 @ 14:39:21-St...</td>\n",
       "      <td>19401.0</td>\n",
       "      <td>Fire: GAS-ODOR/LEAK</td>\n",
       "      <td>2015-12-10 14:39:21</td>\n",
       "      <td>NORRISTOWN</td>\n",
       "      <td>HAWS AVE</td>\n",
       "      <td>1</td>\n",
       "    </tr>\n",
       "    <tr>\n",
       "      <th>3</th>\n",
       "      <td>40.116153</td>\n",
       "      <td>-75.343513</td>\n",
       "      <td>AIRY ST &amp; SWEDE ST;  NORRISTOWN; Station 308A;...</td>\n",
       "      <td>19401.0</td>\n",
       "      <td>EMS: CARDIAC EMERGENCY</td>\n",
       "      <td>2015-12-10 16:47:36</td>\n",
       "      <td>NORRISTOWN</td>\n",
       "      <td>AIRY ST &amp; SWEDE ST</td>\n",
       "      <td>1</td>\n",
       "    </tr>\n",
       "    <tr>\n",
       "      <th>4</th>\n",
       "      <td>40.251492</td>\n",
       "      <td>-75.603350</td>\n",
       "      <td>CHERRYWOOD CT &amp; DEAD END;  LOWER POTTSGROVE; S...</td>\n",
       "      <td>NaN</td>\n",
       "      <td>EMS: DIZZINESS</td>\n",
       "      <td>2015-12-10 16:56:52</td>\n",
       "      <td>LOWER POTTSGROVE</td>\n",
       "      <td>CHERRYWOOD CT &amp; DEAD END</td>\n",
       "      <td>1</td>\n",
       "    </tr>\n",
       "  </tbody>\n",
       "</table>\n",
       "</div>"
      ],
      "text/plain": [
       "         lat        lng                                               desc  \\\n",
       "0  40.297876 -75.581294  REINDEER CT & DEAD END;  NEW HANOVER; Station ...   \n",
       "1  40.258061 -75.264680  BRIAR PATH & WHITEMARSH LN;  HATFIELD TOWNSHIP...   \n",
       "2  40.121182 -75.351975  HAWS AVE; NORRISTOWN; 2015-12-10 @ 14:39:21-St...   \n",
       "3  40.116153 -75.343513  AIRY ST & SWEDE ST;  NORRISTOWN; Station 308A;...   \n",
       "4  40.251492 -75.603350  CHERRYWOOD CT & DEAD END;  LOWER POTTSGROVE; S...   \n",
       "\n",
       "       zip                    title            timeStamp                twp  \\\n",
       "0  19525.0   EMS: BACK PAINS/INJURY  2015-12-10 17:10:52        NEW HANOVER   \n",
       "1  19446.0  EMS: DIABETIC EMERGENCY  2015-12-10 17:29:21  HATFIELD TOWNSHIP   \n",
       "2  19401.0      Fire: GAS-ODOR/LEAK  2015-12-10 14:39:21         NORRISTOWN   \n",
       "3  19401.0   EMS: CARDIAC EMERGENCY  2015-12-10 16:47:36         NORRISTOWN   \n",
       "4      NaN           EMS: DIZZINESS  2015-12-10 16:56:52   LOWER POTTSGROVE   \n",
       "\n",
       "                         addr  e  \n",
       "0      REINDEER CT & DEAD END  1  \n",
       "1  BRIAR PATH & WHITEMARSH LN  1  \n",
       "2                    HAWS AVE  1  \n",
       "3          AIRY ST & SWEDE ST  1  \n",
       "4    CHERRYWOOD CT & DEAD END  1  "
      ]
     },
     "execution_count": 3,
     "metadata": {},
     "output_type": "execute_result"
    }
   ],
   "source": [
    "df.head(5)"
   ]
  },
  {
   "cell_type": "code",
   "execution_count": 4,
   "metadata": {},
   "outputs": [
    {
     "data": {
      "text/html": [
       "<div>\n",
       "<style scoped>\n",
       "    .dataframe tbody tr th:only-of-type {\n",
       "        vertical-align: middle;\n",
       "    }\n",
       "\n",
       "    .dataframe tbody tr th {\n",
       "        vertical-align: top;\n",
       "    }\n",
       "\n",
       "    .dataframe thead th {\n",
       "        text-align: right;\n",
       "    }\n",
       "</style>\n",
       "<table border=\"1\" class=\"dataframe\">\n",
       "  <thead>\n",
       "    <tr style=\"text-align: right;\">\n",
       "      <th></th>\n",
       "      <th>lat</th>\n",
       "      <th>lng</th>\n",
       "      <th>desc</th>\n",
       "      <th>zip</th>\n",
       "      <th>title</th>\n",
       "      <th>timeStamp</th>\n",
       "      <th>twp</th>\n",
       "      <th>addr</th>\n",
       "      <th>e</th>\n",
       "    </tr>\n",
       "  </thead>\n",
       "  <tbody>\n",
       "    <tr>\n",
       "      <th>423907</th>\n",
       "      <td>40.190946</td>\n",
       "      <td>-75.237285</td>\n",
       "      <td>SUMNEYTOWN PIKE &amp; WELLINGTON DR; LOWER GWYNEDD...</td>\n",
       "      <td>19002.0</td>\n",
       "      <td>Traffic: VEHICLE ACCIDENT -</td>\n",
       "      <td>2018-11-16 08:51:48</td>\n",
       "      <td>LOWER GWYNEDD</td>\n",
       "      <td>SUMNEYTOWN PIKE &amp; WELLINGTON DR</td>\n",
       "      <td>1</td>\n",
       "    </tr>\n",
       "    <tr>\n",
       "      <th>423908</th>\n",
       "      <td>40.155164</td>\n",
       "      <td>-75.264665</td>\n",
       "      <td>HOFFMAN  ; LOWER GWYNEDD; 2018-11-16 @ 08:46:25;</td>\n",
       "      <td>19422.0</td>\n",
       "      <td>Traffic: DISABLED VEHICLE -</td>\n",
       "      <td>2018-11-16 08:46:25</td>\n",
       "      <td>LOWER GWYNEDD</td>\n",
       "      <td>HOFFMAN</td>\n",
       "      <td>1</td>\n",
       "    </tr>\n",
       "  </tbody>\n",
       "</table>\n",
       "</div>"
      ],
      "text/plain": [
       "              lat        lng  \\\n",
       "423907  40.190946 -75.237285   \n",
       "423908  40.155164 -75.264665   \n",
       "\n",
       "                                                     desc      zip  \\\n",
       "423907  SUMNEYTOWN PIKE & WELLINGTON DR; LOWER GWYNEDD...  19002.0   \n",
       "423908   HOFFMAN  ; LOWER GWYNEDD; 2018-11-16 @ 08:46:25;  19422.0   \n",
       "\n",
       "                              title            timeStamp            twp  \\\n",
       "423907  Traffic: VEHICLE ACCIDENT -  2018-11-16 08:51:48  LOWER GWYNEDD   \n",
       "423908  Traffic: DISABLED VEHICLE -  2018-11-16 08:46:25  LOWER GWYNEDD   \n",
       "\n",
       "                                   addr  e  \n",
       "423907  SUMNEYTOWN PIKE & WELLINGTON DR  1  \n",
       "423908                          HOFFMAN  1  "
      ]
     },
     "execution_count": 4,
     "metadata": {},
     "output_type": "execute_result"
    }
   ],
   "source": [
    "df.tail(2)"
   ]
  },
  {
   "cell_type": "markdown",
   "metadata": {},
   "source": [
    "# Shows the size of the data and name of variables"
   ]
  },
  {
   "cell_type": "code",
   "execution_count": 5,
   "metadata": {},
   "outputs": [
    {
     "name": "stdout",
     "output_type": "stream",
     "text": [
      "<class 'pandas.core.frame.DataFrame'>\n",
      "RangeIndex: 423909 entries, 0 to 423908\n",
      "Data columns (total 9 columns):\n",
      "lat          423909 non-null float64\n",
      "lng          423909 non-null float64\n",
      "desc         423909 non-null object\n",
      "zip          371780 non-null float64\n",
      "title        423909 non-null object\n",
      "timeStamp    423909 non-null object\n",
      "twp          423750 non-null object\n",
      "addr         423909 non-null object\n",
      "e            423909 non-null int64\n",
      "dtypes: float64(3), int64(1), object(5)\n",
      "memory usage: 29.1+ MB\n"
     ]
    }
   ],
   "source": [
    "df.info()"
   ]
  },
  {
   "cell_type": "markdown",
   "metadata": {},
   "source": [
    "# Extract the date and time from variable Timestamp"
   ]
  },
  {
   "cell_type": "code",
   "execution_count": 6,
   "metadata": {},
   "outputs": [
    {
     "data": {
      "text/html": [
       "<div>\n",
       "<style scoped>\n",
       "    .dataframe tbody tr th:only-of-type {\n",
       "        vertical-align: middle;\n",
       "    }\n",
       "\n",
       "    .dataframe tbody tr th {\n",
       "        vertical-align: top;\n",
       "    }\n",
       "\n",
       "    .dataframe thead th {\n",
       "        text-align: right;\n",
       "    }\n",
       "</style>\n",
       "<table border=\"1\" class=\"dataframe\">\n",
       "  <thead>\n",
       "    <tr style=\"text-align: right;\">\n",
       "      <th></th>\n",
       "      <th>Date</th>\n",
       "      <th>Time</th>\n",
       "      <th>Zipcode</th>\n",
       "      <th>Township</th>\n",
       "      <th>Count</th>\n",
       "    </tr>\n",
       "  </thead>\n",
       "  <tbody>\n",
       "    <tr>\n",
       "      <th>0</th>\n",
       "      <td>2015-12-10</td>\n",
       "      <td>17:10:52</td>\n",
       "      <td>19525.0</td>\n",
       "      <td>NEW HANOVER</td>\n",
       "      <td>1</td>\n",
       "    </tr>\n",
       "    <tr>\n",
       "      <th>1</th>\n",
       "      <td>2015-12-10</td>\n",
       "      <td>17:29:21</td>\n",
       "      <td>19446.0</td>\n",
       "      <td>HATFIELD TOWNSHIP</td>\n",
       "      <td>1</td>\n",
       "    </tr>\n",
       "    <tr>\n",
       "      <th>2</th>\n",
       "      <td>2015-12-10</td>\n",
       "      <td>14:39:21</td>\n",
       "      <td>19401.0</td>\n",
       "      <td>NORRISTOWN</td>\n",
       "      <td>1</td>\n",
       "    </tr>\n",
       "  </tbody>\n",
       "</table>\n",
       "</div>"
      ],
      "text/plain": [
       "         Date      Time  Zipcode           Township  Count\n",
       "0  2015-12-10  17:10:52  19525.0        NEW HANOVER      1\n",
       "1  2015-12-10  17:29:21  19446.0  HATFIELD TOWNSHIP      1\n",
       "2  2015-12-10  14:39:21  19401.0         NORRISTOWN      1"
      ]
     },
     "execution_count": 6,
     "metadata": {},
     "output_type": "execute_result"
    }
   ],
   "source": [
    "\n",
    "df['Date']= df['timeStamp'].apply(lambda timeStamp:timeStamp.split(' ')[0])\n",
    "df['Time']= df['timeStamp'].apply(lambda timeStamp:timeStamp.split(' ')[1])\n",
    "#Create a data frame using date, zip code, township and e as Count\n",
    "df2= pd.DataFrame({'Date':df['Date'],'Time':df['Time'],'Zipcode':df['zip'], 'Township':df['twp'], 'Count':df['e']})\n",
    "df2.head(3)"
   ]
  },
  {
   "cell_type": "markdown",
   "metadata": {},
   "source": [
    "# Functions to get year, month, and day from Date; ALso transform zipcode into an integer from float value"
   ]
  },
  {
   "cell_type": "code",
   "execution_count": 7,
   "metadata": {},
   "outputs": [],
   "source": [
    "\n",
    "def getYear(value):\n",
    "    return str(value)[:4]\n",
    "def getMonth(value):\n",
    "    return str(value)[5:7]\n",
    "def getDay(value):\n",
    "    return str(value)[8:10]\n",
    "\n",
    "# Get zip code from the float value zip\n",
    "def getZipcode(value):\n",
    "    value= str(value)\n",
    "    value =value.split('.')[0]\n",
    "    if value == 'nan':\n",
    "        return int(0)\n",
    "    else:\n",
    "        return int(value)\n"
   ]
  },
  {
   "cell_type": "markdown",
   "metadata": {},
   "source": [
    "# Adding new columns to the dataframe df2: Call_year, Call_month, Call_day, Zip_code"
   ]
  },
  {
   "cell_type": "code",
   "execution_count": 8,
   "metadata": {},
   "outputs": [
    {
     "data": {
      "text/html": [
       "<div>\n",
       "<style scoped>\n",
       "    .dataframe tbody tr th:only-of-type {\n",
       "        vertical-align: middle;\n",
       "    }\n",
       "\n",
       "    .dataframe tbody tr th {\n",
       "        vertical-align: top;\n",
       "    }\n",
       "\n",
       "    .dataframe thead th {\n",
       "        text-align: right;\n",
       "    }\n",
       "</style>\n",
       "<table border=\"1\" class=\"dataframe\">\n",
       "  <thead>\n",
       "    <tr style=\"text-align: right;\">\n",
       "      <th></th>\n",
       "      <th>Date</th>\n",
       "      <th>Time</th>\n",
       "      <th>Zipcode</th>\n",
       "      <th>Township</th>\n",
       "      <th>Count</th>\n",
       "      <th>Call_year</th>\n",
       "      <th>Call_month</th>\n",
       "      <th>Call_day</th>\n",
       "      <th>Zip_code</th>\n",
       "    </tr>\n",
       "  </thead>\n",
       "  <tbody>\n",
       "    <tr>\n",
       "      <th>0</th>\n",
       "      <td>2015-12-10</td>\n",
       "      <td>17:10:52</td>\n",
       "      <td>19525.0</td>\n",
       "      <td>NEW HANOVER</td>\n",
       "      <td>1</td>\n",
       "      <td>2015</td>\n",
       "      <td>12</td>\n",
       "      <td>10</td>\n",
       "      <td>19525</td>\n",
       "    </tr>\n",
       "    <tr>\n",
       "      <th>1</th>\n",
       "      <td>2015-12-10</td>\n",
       "      <td>17:29:21</td>\n",
       "      <td>19446.0</td>\n",
       "      <td>HATFIELD TOWNSHIP</td>\n",
       "      <td>1</td>\n",
       "      <td>2015</td>\n",
       "      <td>12</td>\n",
       "      <td>10</td>\n",
       "      <td>19446</td>\n",
       "    </tr>\n",
       "    <tr>\n",
       "      <th>2</th>\n",
       "      <td>2015-12-10</td>\n",
       "      <td>14:39:21</td>\n",
       "      <td>19401.0</td>\n",
       "      <td>NORRISTOWN</td>\n",
       "      <td>1</td>\n",
       "      <td>2015</td>\n",
       "      <td>12</td>\n",
       "      <td>10</td>\n",
       "      <td>19401</td>\n",
       "    </tr>\n",
       "    <tr>\n",
       "      <th>3</th>\n",
       "      <td>2015-12-10</td>\n",
       "      <td>16:47:36</td>\n",
       "      <td>19401.0</td>\n",
       "      <td>NORRISTOWN</td>\n",
       "      <td>1</td>\n",
       "      <td>2015</td>\n",
       "      <td>12</td>\n",
       "      <td>10</td>\n",
       "      <td>19401</td>\n",
       "    </tr>\n",
       "    <tr>\n",
       "      <th>4</th>\n",
       "      <td>2015-12-10</td>\n",
       "      <td>16:56:52</td>\n",
       "      <td>NaN</td>\n",
       "      <td>LOWER POTTSGROVE</td>\n",
       "      <td>1</td>\n",
       "      <td>2015</td>\n",
       "      <td>12</td>\n",
       "      <td>10</td>\n",
       "      <td>0</td>\n",
       "    </tr>\n",
       "  </tbody>\n",
       "</table>\n",
       "</div>"
      ],
      "text/plain": [
       "         Date      Time  Zipcode           Township  Count Call_year  \\\n",
       "0  2015-12-10  17:10:52  19525.0        NEW HANOVER      1      2015   \n",
       "1  2015-12-10  17:29:21  19446.0  HATFIELD TOWNSHIP      1      2015   \n",
       "2  2015-12-10  14:39:21  19401.0         NORRISTOWN      1      2015   \n",
       "3  2015-12-10  16:47:36  19401.0         NORRISTOWN      1      2015   \n",
       "4  2015-12-10  16:56:52      NaN   LOWER POTTSGROVE      1      2015   \n",
       "\n",
       "  Call_month Call_day  Zip_code  \n",
       "0         12       10     19525  \n",
       "1         12       10     19446  \n",
       "2         12       10     19401  \n",
       "3         12       10     19401  \n",
       "4         12       10         0  "
      ]
     },
     "execution_count": 8,
     "metadata": {},
     "output_type": "execute_result"
    }
   ],
   "source": [
    "df2['Call_year']= df2['Date'].apply(getYear)\n",
    "df2['Call_month']= df2['Date'].apply(getMonth)\n",
    "df2['Call_day']= df2['Date'].apply(getDay)\n",
    "df2['Zip_code']= df2['Zipcode'].apply(getZipcode)\n",
    "df2.head(5)"
   ]
  },
  {
   "cell_type": "markdown",
   "metadata": {},
   "source": [
    "# Convert dataframe variable Time to datatime and extract hour from Time then it to a new variable Hour"
   ]
  },
  {
   "cell_type": "code",
   "execution_count": 9,
   "metadata": {},
   "outputs": [
    {
     "data": {
      "text/html": [
       "<div>\n",
       "<style scoped>\n",
       "    .dataframe tbody tr th:only-of-type {\n",
       "        vertical-align: middle;\n",
       "    }\n",
       "\n",
       "    .dataframe tbody tr th {\n",
       "        vertical-align: top;\n",
       "    }\n",
       "\n",
       "    .dataframe thead th {\n",
       "        text-align: right;\n",
       "    }\n",
       "</style>\n",
       "<table border=\"1\" class=\"dataframe\">\n",
       "  <thead>\n",
       "    <tr style=\"text-align: right;\">\n",
       "      <th></th>\n",
       "      <th>Date</th>\n",
       "      <th>Time</th>\n",
       "      <th>Zipcode</th>\n",
       "      <th>Township</th>\n",
       "      <th>Count</th>\n",
       "      <th>Call_year</th>\n",
       "      <th>Call_month</th>\n",
       "      <th>Call_day</th>\n",
       "      <th>Zip_code</th>\n",
       "      <th>Hour</th>\n",
       "    </tr>\n",
       "  </thead>\n",
       "  <tbody>\n",
       "    <tr>\n",
       "      <th>0</th>\n",
       "      <td>2015-12-10</td>\n",
       "      <td>17:10:52</td>\n",
       "      <td>19525.0</td>\n",
       "      <td>NEW HANOVER</td>\n",
       "      <td>1</td>\n",
       "      <td>2015</td>\n",
       "      <td>12</td>\n",
       "      <td>10</td>\n",
       "      <td>19525</td>\n",
       "      <td>17</td>\n",
       "    </tr>\n",
       "    <tr>\n",
       "      <th>1</th>\n",
       "      <td>2015-12-10</td>\n",
       "      <td>17:29:21</td>\n",
       "      <td>19446.0</td>\n",
       "      <td>HATFIELD TOWNSHIP</td>\n",
       "      <td>1</td>\n",
       "      <td>2015</td>\n",
       "      <td>12</td>\n",
       "      <td>10</td>\n",
       "      <td>19446</td>\n",
       "      <td>17</td>\n",
       "    </tr>\n",
       "    <tr>\n",
       "      <th>2</th>\n",
       "      <td>2015-12-10</td>\n",
       "      <td>14:39:21</td>\n",
       "      <td>19401.0</td>\n",
       "      <td>NORRISTOWN</td>\n",
       "      <td>1</td>\n",
       "      <td>2015</td>\n",
       "      <td>12</td>\n",
       "      <td>10</td>\n",
       "      <td>19401</td>\n",
       "      <td>14</td>\n",
       "    </tr>\n",
       "    <tr>\n",
       "      <th>3</th>\n",
       "      <td>2015-12-10</td>\n",
       "      <td>16:47:36</td>\n",
       "      <td>19401.0</td>\n",
       "      <td>NORRISTOWN</td>\n",
       "      <td>1</td>\n",
       "      <td>2015</td>\n",
       "      <td>12</td>\n",
       "      <td>10</td>\n",
       "      <td>19401</td>\n",
       "      <td>16</td>\n",
       "    </tr>\n",
       "    <tr>\n",
       "      <th>4</th>\n",
       "      <td>2015-12-10</td>\n",
       "      <td>16:56:52</td>\n",
       "      <td>NaN</td>\n",
       "      <td>LOWER POTTSGROVE</td>\n",
       "      <td>1</td>\n",
       "      <td>2015</td>\n",
       "      <td>12</td>\n",
       "      <td>10</td>\n",
       "      <td>0</td>\n",
       "      <td>16</td>\n",
       "    </tr>\n",
       "  </tbody>\n",
       "</table>\n",
       "</div>"
      ],
      "text/plain": [
       "         Date      Time  Zipcode           Township  Count Call_year  \\\n",
       "0  2015-12-10  17:10:52  19525.0        NEW HANOVER      1      2015   \n",
       "1  2015-12-10  17:29:21  19446.0  HATFIELD TOWNSHIP      1      2015   \n",
       "2  2015-12-10  14:39:21  19401.0         NORRISTOWN      1      2015   \n",
       "3  2015-12-10  16:47:36  19401.0         NORRISTOWN      1      2015   \n",
       "4  2015-12-10  16:56:52      NaN   LOWER POTTSGROVE      1      2015   \n",
       "\n",
       "  Call_month Call_day  Zip_code  Hour  \n",
       "0         12       10     19525    17  \n",
       "1         12       10     19446    17  \n",
       "2         12       10     19401    14  \n",
       "3         12       10     19401    16  \n",
       "4         12       10         0    16  "
      ]
     },
     "execution_count": 9,
     "metadata": {},
     "output_type": "execute_result"
    }
   ],
   "source": [
    "df2['Hour'] = pd.to_datetime(df2['Time'].astype(str)).dt.hour\n",
    "df2.head(5)"
   ]
  },
  {
   "cell_type": "markdown",
   "metadata": {},
   "source": [
    "# 1) How many missing zip codes exist in the Zip_code column?"
   ]
  },
  {
   "cell_type": "code",
   "execution_count": 10,
   "metadata": {},
   "outputs": [
    {
     "data": {
      "text/plain": [
       "52129"
      ]
     },
     "execution_count": 10,
     "metadata": {},
     "output_type": "execute_result"
    }
   ],
   "source": [
    "#df2[df2['Zip_code']==0].count()\n",
    "sum(df2[df2['Zip_code']==0]['Count'].value_counts())"
   ]
  },
  {
   "cell_type": "markdown",
   "metadata": {},
   "source": [
    "# Overwrite df2 to ignore rows with missing data (0)"
   ]
  },
  {
   "cell_type": "code",
   "execution_count": 11,
   "metadata": {},
   "outputs": [
    {
     "data": {
      "text/html": [
       "<div>\n",
       "<style scoped>\n",
       "    .dataframe tbody tr th:only-of-type {\n",
       "        vertical-align: middle;\n",
       "    }\n",
       "\n",
       "    .dataframe tbody tr th {\n",
       "        vertical-align: top;\n",
       "    }\n",
       "\n",
       "    .dataframe thead th {\n",
       "        text-align: right;\n",
       "    }\n",
       "</style>\n",
       "<table border=\"1\" class=\"dataframe\">\n",
       "  <thead>\n",
       "    <tr style=\"text-align: right;\">\n",
       "      <th></th>\n",
       "      <th>Date</th>\n",
       "      <th>Time</th>\n",
       "      <th>Zipcode</th>\n",
       "      <th>Township</th>\n",
       "      <th>Count</th>\n",
       "      <th>Call_year</th>\n",
       "      <th>Call_month</th>\n",
       "      <th>Call_day</th>\n",
       "      <th>Zip_code</th>\n",
       "      <th>Hour</th>\n",
       "    </tr>\n",
       "  </thead>\n",
       "  <tbody>\n",
       "    <tr>\n",
       "      <th>0</th>\n",
       "      <td>2015-12-10</td>\n",
       "      <td>17:10:52</td>\n",
       "      <td>19525.0</td>\n",
       "      <td>NEW HANOVER</td>\n",
       "      <td>1</td>\n",
       "      <td>2015</td>\n",
       "      <td>12</td>\n",
       "      <td>10</td>\n",
       "      <td>19525</td>\n",
       "      <td>17</td>\n",
       "    </tr>\n",
       "    <tr>\n",
       "      <th>1</th>\n",
       "      <td>2015-12-10</td>\n",
       "      <td>17:29:21</td>\n",
       "      <td>19446.0</td>\n",
       "      <td>HATFIELD TOWNSHIP</td>\n",
       "      <td>1</td>\n",
       "      <td>2015</td>\n",
       "      <td>12</td>\n",
       "      <td>10</td>\n",
       "      <td>19446</td>\n",
       "      <td>17</td>\n",
       "    </tr>\n",
       "    <tr>\n",
       "      <th>2</th>\n",
       "      <td>2015-12-10</td>\n",
       "      <td>14:39:21</td>\n",
       "      <td>19401.0</td>\n",
       "      <td>NORRISTOWN</td>\n",
       "      <td>1</td>\n",
       "      <td>2015</td>\n",
       "      <td>12</td>\n",
       "      <td>10</td>\n",
       "      <td>19401</td>\n",
       "      <td>14</td>\n",
       "    </tr>\n",
       "    <tr>\n",
       "      <th>3</th>\n",
       "      <td>2015-12-10</td>\n",
       "      <td>16:47:36</td>\n",
       "      <td>19401.0</td>\n",
       "      <td>NORRISTOWN</td>\n",
       "      <td>1</td>\n",
       "      <td>2015</td>\n",
       "      <td>12</td>\n",
       "      <td>10</td>\n",
       "      <td>19401</td>\n",
       "      <td>16</td>\n",
       "    </tr>\n",
       "    <tr>\n",
       "      <th>5</th>\n",
       "      <td>2015-12-10</td>\n",
       "      <td>15:39:04</td>\n",
       "      <td>19446.0</td>\n",
       "      <td>LANSDALE</td>\n",
       "      <td>1</td>\n",
       "      <td>2015</td>\n",
       "      <td>12</td>\n",
       "      <td>10</td>\n",
       "      <td>19446</td>\n",
       "      <td>15</td>\n",
       "    </tr>\n",
       "  </tbody>\n",
       "</table>\n",
       "</div>"
      ],
      "text/plain": [
       "         Date      Time  Zipcode           Township  Count Call_year  \\\n",
       "0  2015-12-10  17:10:52  19525.0        NEW HANOVER      1      2015   \n",
       "1  2015-12-10  17:29:21  19446.0  HATFIELD TOWNSHIP      1      2015   \n",
       "2  2015-12-10  14:39:21  19401.0         NORRISTOWN      1      2015   \n",
       "3  2015-12-10  16:47:36  19401.0         NORRISTOWN      1      2015   \n",
       "5  2015-12-10  15:39:04  19446.0           LANSDALE      1      2015   \n",
       "\n",
       "  Call_month Call_day  Zip_code  Hour  \n",
       "0         12       10     19525    17  \n",
       "1         12       10     19446    17  \n",
       "2         12       10     19401    14  \n",
       "3         12       10     19401    16  \n",
       "5         12       10     19446    15  "
      ]
     },
     "execution_count": 11,
     "metadata": {},
     "output_type": "execute_result"
    }
   ],
   "source": [
    "df2 =df2[df2['Zip_code'] != 0]\n",
    "df2.sort_values('Zip_code')\n",
    "df2.head(5)"
   ]
  },
  {
   "cell_type": "markdown",
   "metadata": {},
   "source": [
    "# 2) What area zip_code had the most call? "
   ]
  },
  {
   "cell_type": "code",
   "execution_count": 12,
   "metadata": {},
   "outputs": [
    {
     "data": {
      "text/plain": [
       "19401    28656\n",
       "19464    27948\n",
       "19403    21631\n",
       "19446    20496\n",
       "19406    14097\n",
       "Name: Zip_code, dtype: int64"
      ]
     },
     "execution_count": 12,
     "metadata": {},
     "output_type": "execute_result"
    }
   ],
   "source": [
    "df2['Zip_code'].value_counts().head()  #Top 5 zipcodes where the most 911 calls came from"
   ]
  },
  {
   "cell_type": "markdown",
   "metadata": {},
   "source": [
    "# 3) Which townships called the most? "
   ]
  },
  {
   "cell_type": "code",
   "execution_count": 13,
   "metadata": {},
   "outputs": [
    {
     "data": {
      "text/plain": [
       "LOWER MERION    30995\n",
       "ABINGTON        24696\n",
       "NORRISTOWN      22749\n",
       "POTTSTOWN       17130\n",
       "CHELTENHAM      16926\n",
       "Name: Township, dtype: int64"
      ]
     },
     "execution_count": 13,
     "metadata": {},
     "output_type": "execute_result"
    }
   ],
   "source": [
    "df2['Township'].value_counts().head(5)   #Top 5 townships that made the most 911 calls"
   ]
  },
  {
   "cell_type": "markdown",
   "metadata": {},
   "source": [
    "# 4) which townships called the least ?"
   ]
  },
  {
   "cell_type": "code",
   "execution_count": 14,
   "metadata": {},
   "outputs": [
    {
     "data": {
      "text/plain": [
       "BERKS COUNTY     714\n",
       "GREEN LANE       259\n",
       "PHILA COUNTY     147\n",
       "HATFIELD BORO    109\n",
       "LEHIGH COUNTY     78\n",
       "Name: Township, dtype: int64"
      ]
     },
     "execution_count": 14,
     "metadata": {},
     "output_type": "execute_result"
    }
   ],
   "source": [
    "df2['Township'].value_counts().tail(5)  #Top 5 townships that made the least 911 calls"
   ]
  },
  {
   "cell_type": "markdown",
   "metadata": {},
   "source": [
    "# Gives the list of all unique titles and determines number of total unique titles"
   ]
  },
  {
   "cell_type": "code",
   "execution_count": 15,
   "metadata": {},
   "outputs": [
    {
     "data": {
      "text/plain": [
       "141"
      ]
     },
     "execution_count": 15,
     "metadata": {},
     "output_type": "execute_result"
    }
   ],
   "source": [
    "df['title'].unique() #Unique titles \n",
    "\n",
    "df['title'].nunique()  #Number of Disctinct titles names"
   ]
  },
  {
   "cell_type": "markdown",
   "metadata": {},
   "source": [
    "# Extract reasons of call alone from Title"
   ]
  },
  {
   "cell_type": "code",
   "execution_count": 16,
   "metadata": {},
   "outputs": [],
   "source": [
    "df['reason']=df['title'].apply(lambda title: title.split(':')[0])\n",
    "df['Event']=df['title'].apply(lambda title: title.split(':')[1])"
   ]
  },
  {
   "cell_type": "markdown",
   "metadata": {},
   "source": [
    "# Add new columns to the dataframe df2: Call_reason, Call_event"
   ]
  },
  {
   "cell_type": "code",
   "execution_count": 17,
   "metadata": {},
   "outputs": [
    {
     "data": {
      "text/html": [
       "<div>\n",
       "<style scoped>\n",
       "    .dataframe tbody tr th:only-of-type {\n",
       "        vertical-align: middle;\n",
       "    }\n",
       "\n",
       "    .dataframe tbody tr th {\n",
       "        vertical-align: top;\n",
       "    }\n",
       "\n",
       "    .dataframe thead th {\n",
       "        text-align: right;\n",
       "    }\n",
       "</style>\n",
       "<table border=\"1\" class=\"dataframe\">\n",
       "  <thead>\n",
       "    <tr style=\"text-align: right;\">\n",
       "      <th></th>\n",
       "      <th>Date</th>\n",
       "      <th>Time</th>\n",
       "      <th>Zipcode</th>\n",
       "      <th>Township</th>\n",
       "      <th>Count</th>\n",
       "      <th>Call_year</th>\n",
       "      <th>Call_month</th>\n",
       "      <th>Call_day</th>\n",
       "      <th>Zip_code</th>\n",
       "      <th>Hour</th>\n",
       "      <th>Call_reason</th>\n",
       "      <th>Call_event</th>\n",
       "    </tr>\n",
       "  </thead>\n",
       "  <tbody>\n",
       "    <tr>\n",
       "      <th>0</th>\n",
       "      <td>2015-12-10</td>\n",
       "      <td>17:10:52</td>\n",
       "      <td>19525.0</td>\n",
       "      <td>NEW HANOVER</td>\n",
       "      <td>1</td>\n",
       "      <td>2015</td>\n",
       "      <td>12</td>\n",
       "      <td>10</td>\n",
       "      <td>19525</td>\n",
       "      <td>17</td>\n",
       "      <td>EMS</td>\n",
       "      <td>BACK PAINS/INJURY</td>\n",
       "    </tr>\n",
       "    <tr>\n",
       "      <th>1</th>\n",
       "      <td>2015-12-10</td>\n",
       "      <td>17:29:21</td>\n",
       "      <td>19446.0</td>\n",
       "      <td>HATFIELD TOWNSHIP</td>\n",
       "      <td>1</td>\n",
       "      <td>2015</td>\n",
       "      <td>12</td>\n",
       "      <td>10</td>\n",
       "      <td>19446</td>\n",
       "      <td>17</td>\n",
       "      <td>EMS</td>\n",
       "      <td>DIABETIC EMERGENCY</td>\n",
       "    </tr>\n",
       "    <tr>\n",
       "      <th>2</th>\n",
       "      <td>2015-12-10</td>\n",
       "      <td>14:39:21</td>\n",
       "      <td>19401.0</td>\n",
       "      <td>NORRISTOWN</td>\n",
       "      <td>1</td>\n",
       "      <td>2015</td>\n",
       "      <td>12</td>\n",
       "      <td>10</td>\n",
       "      <td>19401</td>\n",
       "      <td>14</td>\n",
       "      <td>Fire</td>\n",
       "      <td>GAS-ODOR/LEAK</td>\n",
       "    </tr>\n",
       "  </tbody>\n",
       "</table>\n",
       "</div>"
      ],
      "text/plain": [
       "         Date      Time  Zipcode           Township  Count Call_year  \\\n",
       "0  2015-12-10  17:10:52  19525.0        NEW HANOVER      1      2015   \n",
       "1  2015-12-10  17:29:21  19446.0  HATFIELD TOWNSHIP      1      2015   \n",
       "2  2015-12-10  14:39:21  19401.0         NORRISTOWN      1      2015   \n",
       "\n",
       "  Call_month Call_day  Zip_code  Hour Call_reason           Call_event  \n",
       "0         12       10     19525    17         EMS    BACK PAINS/INJURY  \n",
       "1         12       10     19446    17         EMS   DIABETIC EMERGENCY  \n",
       "2         12       10     19401    14        Fire        GAS-ODOR/LEAK  "
      ]
     },
     "execution_count": 17,
     "metadata": {},
     "output_type": "execute_result"
    }
   ],
   "source": [
    "df2['Call_reason']= df['reason']\n",
    "df2['Call_event']= df['Event']\n",
    "df2.head(3)    "
   ]
  },
  {
   "cell_type": "markdown",
   "metadata": {},
   "source": [
    "# Number of unique Reasons"
   ]
  },
  {
   "cell_type": "code",
   "execution_count": 18,
   "metadata": {},
   "outputs": [
    {
     "data": {
      "text/plain": [
       "3"
      ]
     },
     "execution_count": 18,
     "metadata": {},
     "output_type": "execute_result"
    }
   ],
   "source": [
    "df2['Call_reason'].nunique() "
   ]
  },
  {
   "cell_type": "markdown",
   "metadata": {},
   "source": [
    "# Number of unique Events"
   ]
  },
  {
   "cell_type": "code",
   "execution_count": 19,
   "metadata": {},
   "outputs": [
    {
     "data": {
      "text/plain": [
       "91"
      ]
     },
     "execution_count": 19,
     "metadata": {},
     "output_type": "execute_result"
    }
   ],
   "source": [
    "df2['Call_event'].nunique() "
   ]
  },
  {
   "cell_type": "markdown",
   "metadata": {},
   "source": [
    "# Plot a bar graph of the Count of Call Reasons by Year"
   ]
  },
  {
   "cell_type": "code",
   "execution_count": 20,
   "metadata": {},
   "outputs": [
    {
     "data": {
      "text/plain": [
       "<matplotlib.axes._subplots.AxesSubplot at 0x1a2b11c7b8>"
      ]
     },
     "execution_count": 20,
     "metadata": {},
     "output_type": "execute_result"
    },
    {
     "data": {
      "image/png": "[encoded data removed]",
      "text/plain": [
       "<Figure size 432x288 with 1 Axes>"
      ]
     },
     "metadata": {
      "needs_background": "light"
     },
     "output_type": "display_data"
    }
   ],
   "source": [
    "#unstack pivots a level of the row index (in this case the call reason ) to the column axis\n",
    "\n",
    "df2.groupby(['Call_year','Call_reason']).count()['Count'].unstack().plot.bar(stacked=False)"
   ]
  },
  {
   "cell_type": "markdown",
   "metadata": {},
   "source": [
    "# Plot a line graph of the Count of Call Reason by Year"
   ]
  },
  {
   "cell_type": "code",
   "execution_count": 21,
   "metadata": {},
   "outputs": [
    {
     "data": {
      "text/plain": [
       "<matplotlib.axes._subplots.AxesSubplot at 0x1a35edc128>"
      ]
     },
     "execution_count": 21,
     "metadata": {},
     "output_type": "execute_result"
    },
    {
     "data": {
      "image/png": "[encoded data removed]",
      "text/plain": [
       "<Figure size 432x288 with 1 Axes>"
      ]
     },
     "metadata": {
      "needs_background": "light"
     },
     "output_type": "display_data"
    }
   ],
   "source": [
    "#Use unstack to plot the number of call of calls made each year for each call reason\n",
    "#Sum or count both work\n",
    "\n",
    "df2.groupby(['Call_year','Call_reason']).sum()['Count'].unstack().plot()"
   ]
  },
  {
   "cell_type": "markdown",
   "metadata": {},
   "source": [
    "# Plot a bar graph of the Count of Call Reasons by Month"
   ]
  },
  {
   "cell_type": "code",
   "execution_count": 22,
   "metadata": {},
   "outputs": [
    {
     "data": {
      "text/plain": [
       "<matplotlib.axes._subplots.AxesSubplot at 0x1a36831860>"
      ]
     },
     "execution_count": 22,
     "metadata": {},
     "output_type": "execute_result"
    },
    {
     "data": {
      "image/png": "[encoded data removed]",
      "text/plain": [
       "<Figure size 432x288 with 1 Axes>"
      ]
     },
     "metadata": {
      "needs_background": "light"
     },
     "output_type": "display_data"
    }
   ],
   "source": [
    "df2.groupby(['Call_month','Call_reason']).sum()['Count'].unstack().plot.bar(stacked=True)"
   ]
  },
  {
   "cell_type": "markdown",
   "metadata": {},
   "source": [
    "# Plot a line graph of the Count of Call Reasons by Year"
   ]
  },
  {
   "cell_type": "code",
   "execution_count": 23,
   "metadata": {},
   "outputs": [
    {
     "data": {
      "text/plain": [
       "<matplotlib.axes._subplots.AxesSubplot at 0x1a368176a0>"
      ]
     },
     "execution_count": 23,
     "metadata": {},
     "output_type": "execute_result"
    },
    {
     "data": {
      "image/png": "[encoded data removed]",
      "text/plain": [
       "<Figure size 432x288 with 1 Axes>"
      ]
     },
     "metadata": {
      "needs_background": "light"
     },
     "output_type": "display_data"
    }
   ],
   "source": [
    "df2.groupby(['Call_month','Call_reason']).sum()['Count'].unstack().plot()"
   ]
  },
  {
   "cell_type": "markdown",
   "metadata": {},
   "source": [
    "# Plot a bar graph of the Count of Call Reasons by Hour of Day"
   ]
  },
  {
   "cell_type": "code",
   "execution_count": 24,
   "metadata": {},
   "outputs": [
    {
     "data": {
      "text/plain": [
       "<matplotlib.axes._subplots.AxesSubplot at 0x1a36a53fd0>"
      ]
     },
     "execution_count": 24,
     "metadata": {},
     "output_type": "execute_result"
    },
    {
     "data": {
      "image/png": "[encoded data removed]",
      "text/plain": [
       "<Figure size 432x288 with 1 Axes>"
      ]
     },
     "metadata": {
      "needs_background": "light"
     },
     "output_type": "display_data"
    }
   ],
   "source": [
    "df2.groupby(['Hour','Call_reason']).sum()['Count'].unstack().plot.bar(stacked=True)"
   ]
  },
  {
   "cell_type": "markdown",
   "metadata": {},
   "source": [
    "# Plot a line graph of the Count of Call Reasons by Hour of Day"
   ]
  },
  {
   "cell_type": "code",
   "execution_count": 25,
   "metadata": {},
   "outputs": [
    {
     "data": {
      "text/plain": [
       "<matplotlib.axes._subplots.AxesSubplot at 0x1a36c3b128>"
      ]
     },
     "execution_count": 25,
     "metadata": {},
     "output_type": "execute_result"
    },
    {
     "data": {
      "image/png": "[encoded data removed]",
      "text/plain": [
       "<Figure size 432x288 with 1 Axes>"
      ]
     },
     "metadata": {
      "needs_background": "light"
     },
     "output_type": "display_data"
    }
   ],
   "source": [
    "df2.groupby(['Hour','Call_reason']).sum()['Count'].unstack().plot()"
   ]
  },
  {
   "cell_type": "markdown",
   "metadata": {},
   "source": [
    "# 5) What hour had the most calls?"
   ]
  },
  {
   "cell_type": "code",
   "execution_count": 26,
   "metadata": {},
   "outputs": [
    {
     "data": {
      "text/plain": [
       "17    24178\n",
       "16    24045\n",
       "15    23453\n",
       "14    22614\n",
       "12    22598\n",
       "Name: Hour, dtype: int64"
      ]
     },
     "execution_count": 26,
     "metadata": {},
     "output_type": "execute_result"
    }
   ],
   "source": [
    "#There are many 911 call occurrences in the afternoon from 12pm to 17 pm or 5 pm\n",
    "\n",
    "df2['Hour'].value_counts().head() "
   ]
  },
  {
   "cell_type": "markdown",
   "metadata": {},
   "source": [
    "# 6) What year had the most calls?"
   ]
  },
  {
   "cell_type": "code",
   "execution_count": 27,
   "metadata": {},
   "outputs": [
    {
     "data": {
      "text/plain": [
       "2016    124495\n",
       "2017    123768\n",
       "2018    116615\n",
       "2015      6902\n",
       "Name: Call_year, dtype: int64"
      ]
     },
     "execution_count": 27,
     "metadata": {},
     "output_type": "execute_result"
    }
   ],
   "source": [
    "df2['Call_year'].value_counts().head()  # 2016 and 2017 had the highest number of calls. 2015 could be an outlier "
   ]
  },
  {
   "cell_type": "markdown",
   "metadata": {},
   "source": [
    "# 7) What month had the most calls?"
   ]
  },
  {
   "cell_type": "code",
   "execution_count": 28,
   "metadata": {},
   "outputs": [
    {
     "data": {
      "text/plain": [
       "01    33480\n",
       "03    33416\n",
       "10    32919\n",
       "07    31863\n",
       "08    31512\n",
       "Name: Call_month, dtype: int64"
      ]
     },
     "execution_count": 28,
     "metadata": {},
     "output_type": "execute_result"
    }
   ],
   "source": [
    "df2['Call_month'].value_counts().head()"
   ]
  },
  {
   "cell_type": "markdown",
   "metadata": {},
   "source": [
    "# 8) Which call event was the most frequent?"
   ]
  },
  {
   "cell_type": "code",
   "execution_count": 29,
   "metadata": {},
   "outputs": [
    {
     "data": {
      "text/plain": [
       " VEHICLE ACCIDENT -       83269\n",
       " DISABLED VEHICLE -       24821\n",
       " FIRE ALARM               23073\n",
       " FALL VICTIM              20036\n",
       " RESPIRATORY EMERGENCY    20030\n",
       "Name: Call_event, dtype: int64"
      ]
     },
     "execution_count": 29,
     "metadata": {},
     "output_type": "execute_result"
    }
   ],
   "source": [
    "df2['Call_event'].value_counts().head()"
   ]
  },
  {
   "cell_type": "markdown",
   "metadata": {},
   "source": [
    "# 9) Which call event was the most frequent?"
   ]
  },
  {
   "cell_type": "code",
   "execution_count": 30,
   "metadata": {},
   "outputs": [
    {
     "data": {
      "text/plain": [
       " HIT + RUN                    1\n",
       " ANIMAL COMPLAINT             1\n",
       " HAZARDOUS ROAD CONDITIONS    1\n",
       " PRISONER IN CUSTODY          1\n",
       " POLICE INFORMATION           1\n",
       "Name: Call_event, dtype: int64"
      ]
     },
     "execution_count": 30,
     "metadata": {},
     "output_type": "execute_result"
    }
   ],
   "source": [
    "df2['Call_event'].value_counts().tail()"
   ]
  },
  {
   "cell_type": "markdown",
   "metadata": {},
   "source": [
    "# 10) Which call reason was the most frequent?"
   ]
  },
  {
   "cell_type": "code",
   "execution_count": 31,
   "metadata": {},
   "outputs": [
    {
     "data": {
      "text/plain": [
       "EMS        190315\n",
       "Traffic    125374\n",
       "Fire        56091\n",
       "Name: Call_reason, dtype: int64"
      ]
     },
     "execution_count": 31,
     "metadata": {},
     "output_type": "execute_result"
    }
   ],
   "source": [
    "df2['Call_reason'].value_counts().head()"
   ]
  },
  {
   "cell_type": "markdown",
   "metadata": {},
   "source": [
    "# Export the dataframe df2 as a CSV file to the PythonDS directory "
   ]
  },
  {
   "cell_type": "code",
   "execution_count": 32,
   "metadata": {},
   "outputs": [
    {
     "name": "stdout",
     "output_type": "stream",
     "text": [
      "              Date      Time  Zipcode           Township  Count Call_year  \\\n",
      "0       2015-12-10  17:10:52  19525.0        NEW HANOVER      1      2015   \n",
      "1       2015-12-10  17:29:21  19446.0  HATFIELD TOWNSHIP      1      2015   \n",
      "2       2015-12-10  14:39:21  19401.0         NORRISTOWN      1      2015   \n",
      "3       2015-12-10  16:47:36  19401.0         NORRISTOWN      1      2015   \n",
      "5       2015-12-10  15:39:04  19446.0           LANSDALE      1      2015   \n",
      "6       2015-12-10  16:46:48  19044.0            HORSHAM      1      2015   \n",
      "7       2015-12-10  16:17:05  19426.0           SKIPPACK      1      2015   \n",
      "8       2015-12-10  16:51:42  19438.0      LOWER SALFORD      1      2015   \n",
      "9       2015-12-10  17:35:41  19462.0           PLYMOUTH      1      2015   \n",
      "11      2015-12-10  16:32:10  19428.0           PLYMOUTH      1      2015   \n",
      "12      2015-12-10  17:15:49  19040.0     UPPER MORELAND      1      2015   \n",
      "13      2015-12-10  17:12:47  19027.0         CHELTENHAM      1      2015   \n",
      "15      2015-12-10  17:31:00  18936.0         MONTGOMERY      1      2015   \n",
      "16      2015-12-10  17:42:44  19446.0           LANSDALE      1      2015   \n",
      "17      2015-12-10  17:41:54  19525.0        NEW HANOVER      1      2015   \n",
      "18      2015-12-10  17:43:29  19401.0         NORRISTOWN      1      2015   \n",
      "19      2015-12-10  17:45:23  18974.0            HORSHAM      1      2015   \n",
      "20      2015-12-10  17:43:45  19401.0         NORRISTOWN      1      2015   \n",
      "21      2015-12-10  17:53:22  19031.0         WHITEMARSH      1      2015   \n",
      "22      2015-12-10  17:59:24  19446.0      UPPER GWYNEDD      1      2015   \n",
      "25      2015-12-10  18:02:02  19403.0   LOWER PROVIDENCE      1      2015   \n",
      "26      2015-12-10  18:02:38  19422.0           WHITPAIN      1      2015   \n",
      "27      2015-12-10  18:05:19  19085.0    DELAWARE COUNTY      1      2015   \n",
      "29      2015-12-10  18:10:40  18974.0            HORSHAM      1      2015   \n",
      "31      2015-12-10  18:09:49  18964.0          FRANCONIA      1      2015   \n",
      "32      2015-12-10  18:17:07  19401.0         NORRISTOWN      1      2015   \n",
      "33      2015-12-10  18:21:43  19038.0         CHELTENHAM      1      2015   \n",
      "35      2015-12-10  18:20:28  19428.0  WEST CONSHOHOCKEN      1      2015   \n",
      "36      2015-12-10  18:23:11  19044.0            HORSHAM      1      2015   \n",
      "38      2015-12-10  18:30:41  19428.0  WEST CONSHOHOCKEN      1      2015   \n",
      "...            ...       ...      ...                ...    ...       ...   \n",
      "423878  2018-11-16  08:20:53  19002.0            HORSHAM      1      2018   \n",
      "423879  2018-11-16  08:18:15  19525.0        NEW HANOVER      1      2018   \n",
      "423880  2018-11-16  08:18:08  19095.0         CHELTENHAM      1      2018   \n",
      "423881  2018-11-16  08:17:59  19002.0            HORSHAM      1      2018   \n",
      "423882  2018-11-16  08:14:32  19002.0       UPPER DUBLIN      1      2018   \n",
      "423883  2018-11-16  08:27:45  19044.0            HORSHAM      1      2018   \n",
      "423884  2018-11-16  08:30:54  19440.0  HATFIELD TOWNSHIP      1      2018   \n",
      "423885  2018-11-16  08:29:22  18054.0        NEW HANOVER      1      2018   \n",
      "423886  2018-11-16  08:30:00  19473.0    LOWER FREDERICK      1      2018   \n",
      "423887  2018-11-16  08:39:28  19403.0      WEST NORRITON      1      2018   \n",
      "423888  2018-11-16  08:39:53  19468.0           LIMERICK      1      2018   \n",
      "423889  2018-11-16  08:38:23  19090.0     UPPER MORELAND      1      2018   \n",
      "423890  2018-11-16  08:45:04  18074.0        NEW HANOVER      1      2018   \n",
      "423891  2018-11-16  08:46:39  19090.0     UPPER MORELAND      1      2018   \n",
      "423892  2018-11-16  08:49:48  19046.0           ABINGTON      1      2018   \n",
      "423893  2018-11-16  08:48:24  19446.0  HATFIELD TOWNSHIP      1      2018   \n",
      "423894  2018-11-16  08:50:58  19468.0         ROYERSFORD      1      2018   \n",
      "423895  2018-11-16  08:47:05  19422.0           WHITPAIN      1      2018   \n",
      "423897  2018-11-16  08:46:39  19090.0       UPPER DUBLIN      1      2018   \n",
      "423898  2018-11-16  08:43:42  19460.0   UPPER PROVIDENCE      1      2018   \n",
      "423899  2018-11-16  08:38:23  19090.0       UPPER DUBLIN      1      2018   \n",
      "423900  2018-11-16  08:46:25  19002.0             AMBLER      1      2018   \n",
      "423901  2018-11-16  08:53:03  19403.0   LOWER PROVIDENCE      1      2018   \n",
      "423902  2018-11-16  08:55:36  18914.0         MONTGOMERY      1      2018   \n",
      "423903  2018-11-16  08:54:52  19454.0         MONTGOMERY      1      2018   \n",
      "423904  2018-11-16  08:54:08  19006.0     LOWER MORELAND      1      2018   \n",
      "423905  2018-11-16  08:53:32  19438.0      LOWER SALFORD      1      2018   \n",
      "423906  2018-11-16  08:54:19  19438.0      LOWER SALFORD      1      2018   \n",
      "423907  2018-11-16  08:51:48  19002.0      LOWER GWYNEDD      1      2018   \n",
      "423908  2018-11-16  08:46:25  19422.0      LOWER GWYNEDD      1      2018   \n",
      "\n",
      "       Call_month Call_day  Zip_code  Hour Call_reason  \\\n",
      "0              12       10     19525    17         EMS   \n",
      "1              12       10     19446    17         EMS   \n",
      "2              12       10     19401    14        Fire   \n",
      "3              12       10     19401    16         EMS   \n",
      "5              12       10     19446    15         EMS   \n",
      "6              12       10     19044    16         EMS   \n",
      "7              12       10     19426    16         EMS   \n",
      "8              12       10     19438    16         EMS   \n",
      "9              12       10     19462    17     Traffic   \n",
      "11             12       10     19428    16     Traffic   \n",
      "12             12       10     19040    17     Traffic   \n",
      "13             12       10     19027    17     Traffic   \n",
      "15             12       10     18936    17     Traffic   \n",
      "16             12       10     19446    17         EMS   \n",
      "17             12       10     19525    17         EMS   \n",
      "18             12       10     19401    17         EMS   \n",
      "19             12       10     18974    17     Traffic   \n",
      "20             12       10     19401    17     Traffic   \n",
      "21             12       10     19031    17     Traffic   \n",
      "22             12       10     19446    17        Fire   \n",
      "25             12       10     19403    18         EMS   \n",
      "26             12       10     19422    18         EMS   \n",
      "27             12       10     19085    18        Fire   \n",
      "29             12       10     18974    18     Traffic   \n",
      "31             12       10     18964    18         EMS   \n",
      "32             12       10     19401    18         EMS   \n",
      "33             12       10     19038    18     Traffic   \n",
      "35             12       10     19428    18     Traffic   \n",
      "36             12       10     19044    18     Traffic   \n",
      "38             12       10     19428    18     Traffic   \n",
      "...           ...      ...       ...   ...         ...   \n",
      "423878         11       16     19002     8     Traffic   \n",
      "423879         11       16     19525     8     Traffic   \n",
      "423880         11       16     19095     8     Traffic   \n",
      "423881         11       16     19002     8     Traffic   \n",
      "423882         11       16     19002     8     Traffic   \n",
      "423883         11       16     19044     8         EMS   \n",
      "423884         11       16     19440     8        Fire   \n",
      "423885         11       16     18054     8     Traffic   \n",
      "423886         11       16     19473     8     Traffic   \n",
      "423887         11       16     19403     8         EMS   \n",
      "423888         11       16     19468     8        Fire   \n",
      "423889         11       16     19090     8     Traffic   \n",
      "423890         11       16     18074     8        Fire   \n",
      "423891         11       16     19090     8     Traffic   \n",
      "423892         11       16     19046     8        Fire   \n",
      "423893         11       16     19446     8        Fire   \n",
      "423894         11       16     19468     8         EMS   \n",
      "423895         11       16     19422     8         EMS   \n",
      "423897         11       16     19090     8     Traffic   \n",
      "423898         11       16     19460     8     Traffic   \n",
      "423899         11       16     19090     8     Traffic   \n",
      "423900         11       16     19002     8     Traffic   \n",
      "423901         11       16     19403     8         EMS   \n",
      "423902         11       16     18914     8     Traffic   \n",
      "423903         11       16     19454     8     Traffic   \n",
      "423904         11       16     19006     8     Traffic   \n",
      "423905         11       16     19438     8     Traffic   \n",
      "423906         11       16     19438     8     Traffic   \n",
      "423907         11       16     19002     8     Traffic   \n",
      "423908         11       16     19422     8     Traffic   \n",
      "\n",
      "                        Call_event  \n",
      "0                BACK PAINS/INJURY  \n",
      "1               DIABETIC EMERGENCY  \n",
      "2                    GAS-ODOR/LEAK  \n",
      "3                CARDIAC EMERGENCY  \n",
      "5                      HEAD INJURY  \n",
      "6                  NAUSEA/VOMITING  \n",
      "7            RESPIRATORY EMERGENCY  \n",
      "8                 SYNCOPAL EPISODE  \n",
      "9               VEHICLE ACCIDENT -  \n",
      "11              VEHICLE ACCIDENT -  \n",
      "12              VEHICLE ACCIDENT -  \n",
      "13              VEHICLE ACCIDENT -  \n",
      "15              VEHICLE ACCIDENT -  \n",
      "16           RESPIRATORY EMERGENCY  \n",
      "17                       DIZZINESS  \n",
      "18                VEHICLE ACCIDENT  \n",
      "19              DISABLED VEHICLE -  \n",
      "20              VEHICLE ACCIDENT -  \n",
      "21              DISABLED VEHICLE -  \n",
      "22                  APPLIANCE FIRE  \n",
      "25                GENERAL WEAKNESS  \n",
      "26                     HEAD INJURY  \n",
      "27        CARBON MONOXIDE DETECTOR  \n",
      "29              DISABLED VEHICLE -  \n",
      "31           RESPIRATORY EMERGENCY  \n",
      "32       UNKNOWN MEDICAL EMERGENCY  \n",
      "33              VEHICLE ACCIDENT -  \n",
      "35              DISABLED VEHICLE -  \n",
      "36              VEHICLE ACCIDENT -  \n",
      "38              VEHICLE ACCIDENT -  \n",
      "...                            ...  \n",
      "423878          VEHICLE ACCIDENT -  \n",
      "423879          DISABLED VEHICLE -  \n",
      "423880          ROAD OBSTRUCTION -  \n",
      "423881          VEHICLE ACCIDENT -  \n",
      "423882          VEHICLE ACCIDENT -  \n",
      "423883             SUBJECT IN PAIN  \n",
      "423884          FIRE INVESTIGATION  \n",
      "423885          DISABLED VEHICLE -  \n",
      "423886          DISABLED VEHICLE -  \n",
      "423887                    SEIZURES  \n",
      "423888                  FIRE ALARM  \n",
      "423889          VEHICLE ACCIDENT -  \n",
      "423890          FIRE POLICE NEEDED  \n",
      "423891          VEHICLE ACCIDENT -  \n",
      "423892                  FIRE ALARM  \n",
      "423893          FIRE INVESTIGATION  \n",
      "423894                 FALL VICTIM  \n",
      "423895            SYNCOPAL EPISODE  \n",
      "423897          VEHICLE ACCIDENT -  \n",
      "423898          DISABLED VEHICLE -  \n",
      "423899          VEHICLE ACCIDENT -  \n",
      "423900          DISABLED VEHICLE -  \n",
      "423901         MEDICAL ALERT ALARM  \n",
      "423902          DISABLED VEHICLE -  \n",
      "423903          DISABLED VEHICLE -  \n",
      "423904          VEHICLE ACCIDENT -  \n",
      "423905          VEHICLE ACCIDENT -  \n",
      "423906          VEHICLE ACCIDENT -  \n",
      "423907          VEHICLE ACCIDENT -  \n",
      "423908          DISABLED VEHICLE -  \n",
      "\n",
      "[371780 rows x 12 columns]\n"
     ]
    }
   ],
   "source": [
    "export_csv = df2.to_csv(r'C:\\Users\\LDiakite\\Desktop\\PythonDS\\export_dataframe.csv', index = None, header=True)\n",
    "\n",
    "print(df2)"
   ]
  }
 ],
 "metadata": {
  "kernelspec": {
   "display_name": "Python 3",
   "language": "python",
   "name": "python3"
  },
  "language_info": {
   "codemirror_mode": {
    "name": "ipython",
    "version": 3
   },
   "file_extension": ".py",
   "mimetype": "text/x-python",
   "name": "python",
   "nbconvert_exporter": "python",
   "pygments_lexer": "ipython3",
   "version": "3.7.3"
  }
 },
 "nbformat": 4,
 "nbformat_minor": 2
}
